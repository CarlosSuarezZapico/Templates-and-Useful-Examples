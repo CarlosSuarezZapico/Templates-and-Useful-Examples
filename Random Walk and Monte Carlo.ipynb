{
 "cells": [
  {
   "cell_type": "code",
   "execution_count": 1,
   "metadata": {},
   "outputs": [],
   "source": [
    "import random"
   ]
  },
  {
   "cell_type": "code",
   "execution_count": 2,
   "metadata": {},
   "outputs": [],
   "source": [
    "def random_walk(n):\n",
    "    #Return coordinates after n block random walk\n",
    "    x=0\n",
    "    y=0\n",
    "    for i in range(n):\n",
    "        step = random.choice(['N', 'S', 'E', 'W'])\n",
    "        if step == 'N': \n",
    "            y = y + 1\n",
    "        elif step == 'S':\n",
    "            y=y-1\n",
    "        elif step == 'E':\n",
    "            x = x + 1\n",
    "        else:\n",
    "            x = x - 1\n",
    "            \n",
    "    return (x, y)         "
   ]
  },
  {
   "cell_type": "code",
   "execution_count": 5,
   "metadata": {},
   "outputs": [
    {
     "name": "stdout",
     "output_type": "stream",
     "text": [
      "(-1, -3)  Distance from home =  4\n",
      "(3, 3)  Distance from home =  6\n",
      "(-1, 3)  Distance from home =  4\n",
      "(0, -4)  Distance from home =  4\n",
      "(1, -1)  Distance from home =  2\n",
      "(-4, -2)  Distance from home =  6\n",
      "(0, 0)  Distance from home =  0\n",
      "(-2, -2)  Distance from home =  4\n",
      "(-3, -1)  Distance from home =  4\n",
      "(1, -1)  Distance from home =  2\n",
      "(-3, -3)  Distance from home =  6\n",
      "(2, 2)  Distance from home =  4\n",
      "(3, 1)  Distance from home =  4\n",
      "(1, -3)  Distance from home =  4\n",
      "(1, -5)  Distance from home =  6\n",
      "(-1, -5)  Distance from home =  6\n",
      "(-2, 0)  Distance from home =  2\n",
      "(-2, -2)  Distance from home =  4\n",
      "(-5, 1)  Distance from home =  6\n",
      "(-5, -3)  Distance from home =  8\n",
      "(0, 0)  Distance from home =  0\n",
      "(1, 1)  Distance from home =  2\n",
      "(-2, -2)  Distance from home =  4\n",
      "(1, -1)  Distance from home =  2\n",
      "(1, 1)  Distance from home =  2\n"
     ]
    }
   ],
   "source": [
    "for i in range(25):\n",
    "    walk = random_walk(10)\n",
    "    print(walk, \" Distance from home = \", abs(walk[0])+ abs(walk[1]))"
   ]
  },
  {
   "cell_type": "code",
   "execution_count": 8,
   "metadata": {},
   "outputs": [],
   "source": [
    "def random_walk_2(n):\n",
    "    \"\"\"Return coordinates after n block random walk\"\"\"\n",
    "    x, y= 0, 0\n",
    "    for i in range(n):\n",
    "        (dx, dy) = random.choice([(0,1), (0,-1), (1,0), (-1, 0)])\n",
    "        x = x+dx\n",
    "        y = y +dy\n",
    "    return (x, y)"
   ]
  },
  {
   "cell_type": "code",
   "execution_count": 9,
   "metadata": {},
   "outputs": [
    {
     "name": "stdout",
     "output_type": "stream",
     "text": [
      "(-2, 0)  Distance from home =  2\n",
      "(5, -1)  Distance from home =  6\n",
      "(-2, -4)  Distance from home =  6\n",
      "(-2, 2)  Distance from home =  4\n",
      "(-3, 1)  Distance from home =  4\n",
      "(-2, 2)  Distance from home =  4\n",
      "(3, 1)  Distance from home =  4\n",
      "(2, 0)  Distance from home =  2\n",
      "(2, 2)  Distance from home =  4\n",
      "(-1, 3)  Distance from home =  4\n",
      "(2, 0)  Distance from home =  2\n",
      "(-3, -3)  Distance from home =  6\n",
      "(0, 0)  Distance from home =  0\n",
      "(0, 2)  Distance from home =  2\n",
      "(-1, 3)  Distance from home =  4\n",
      "(4, 0)  Distance from home =  4\n",
      "(0, -2)  Distance from home =  2\n",
      "(-3, -1)  Distance from home =  4\n",
      "(-3, 3)  Distance from home =  6\n",
      "(0, -2)  Distance from home =  2\n",
      "(4, -2)  Distance from home =  6\n",
      "(1, 1)  Distance from home =  2\n",
      "(0, 0)  Distance from home =  0\n",
      "(1, -1)  Distance from home =  2\n",
      "(-1, 3)  Distance from home =  4\n"
     ]
    }
   ],
   "source": [
    "for i in range(25):\n",
    "    walk = random_walk_2(10)\n",
    "    print(walk, \" Distance from home = \", abs(walk[0])+ abs(walk[1]))"
   ]
  },
  {
   "cell_type": "markdown",
   "metadata": {},
   "source": [
    "MONTE CARLO. You do a random walk, If you end more than 4 blocks away from your home you will have to pay for the transport to come back. Determine What is the longest random walk you can take so that on average you will end up 4 blocks or fewer from home? In other words there is less than a 50% chance you will pay for transport."
   ]
  },
  {
   "cell_type": "code",
   "execution_count": 11,
   "metadata": {},
   "outputs": [
    {
     "name": "stdout",
     "output_type": "stream",
     "text": [
      "Walk size  =  1 / % of no transport =  100.0\n",
      "Walk size  =  2 / % of no transport =  100.0\n",
      "Walk size  =  3 / % of no transport =  100.0\n",
      "Walk size  =  4 / % of no transport =  100.0\n",
      "Walk size  =  5 / % of no transport =  87.56\n",
      "Walk size  =  6 / % of no transport =  93.85\n",
      "Walk size  =  7 / % of no transport =  77.4\n",
      "Walk size  =  8 / % of no transport =  86.76\n",
      "Walk size  =  9 / % of no transport =  67.56\n",
      "Walk size  =  10 / % of no transport =  79.5\n",
      "Walk size  =  11 / % of no transport =  60.07\n",
      "Walk size  =  12 / % of no transport =  72.56\n",
      "Walk size  =  13 / % of no transport =  54.13\n",
      "Walk size  =  14 / % of no transport =  67.66\n",
      "Walk size  =  15 / % of no transport =  48.809999999999995\n",
      "Walk size  =  16 / % of no transport =  62.580000000000005\n",
      "Walk size  =  17 / % of no transport =  44.529999999999994\n",
      "Walk size  =  18 / % of no transport =  57.53\n",
      "Walk size  =  19 / % of no transport =  42.13\n",
      "Walk size  =  20 / % of no transport =  54.269999999999996\n",
      "Walk size  =  21 / % of no transport =  37.92\n",
      "Walk size  =  22 / % of no transport =  50.82\n",
      "Walk size  =  23 / % of no transport =  34.53\n",
      "Walk size  =  24 / % of no transport =  48.370000000000005\n",
      "Walk size  =  25 / % of no transport =  32.519999999999996\n",
      "Walk size  =  26 / % of no transport =  45.49\n",
      "Walk size  =  27 / % of no transport =  31.569999999999997\n",
      "Walk size  =  28 / % of no transport =  43.22\n",
      "Walk size  =  29 / % of no transport =  29.720000000000002\n",
      "Walk size  =  30 / % of no transport =  41.0\n"
     ]
    }
   ],
   "source": [
    "number_of_walks = 10000\n",
    "for walk_length in range (1, 31):\n",
    "    no_transport = 0 # Number of walks 4 or fewer blocks from home\n",
    "    for i in range(number_of_walks):\n",
    "        (x, y) = random_walk_2(walk_length)\n",
    "        distance = abs(x)+abs(y)\n",
    "        if distance <= 4:\n",
    "            no_transport += 1\n",
    "    no_transport_percentage = float(no_transport)/ number_of_walks\n",
    "    print(\"Walk size  = \", walk_length, \"/ % of no transport = \", 100*no_transport_percentage)"
   ]
  },
  {
   "cell_type": "code",
   "execution_count": 12,
   "metadata": {},
   "outputs": [
    {
     "name": "stdout",
     "output_type": "stream",
     "text": [
      "Walk size  =  1 / % of no transport =  100.0\n",
      "Walk size  =  2 / % of no transport =  100.0\n",
      "Walk size  =  3 / % of no transport =  100.0\n",
      "Walk size  =  4 / % of no transport =  100.0\n",
      "Walk size  =  5 / % of no transport =  87.765\n",
      "Walk size  =  6 / % of no transport =  93.6675\n",
      "Walk size  =  7 / % of no transport =  76.7325\n",
      "Walk size  =  8 / % of no transport =  86.3625\n",
      "Walk size  =  9 / % of no transport =  66.9725\n",
      "Walk size  =  10 / % of no transport =  78.94\n",
      "Walk size  =  11 / % of no transport =  59.870000000000005\n",
      "Walk size  =  12 / % of no transport =  72.8475\n",
      "Walk size  =  13 / % of no transport =  54.0625\n",
      "Walk size  =  14 / % of no transport =  67.4\n",
      "Walk size  =  15 / % of no transport =  49.015\n",
      "Walk size  =  16 / % of no transport =  62.370000000000005\n",
      "Walk size  =  17 / % of no transport =  44.41\n",
      "Walk size  =  18 / % of no transport =  58.0025\n",
      "Walk size  =  19 / % of no transport =  41.43\n",
      "Walk size  =  20 / % of no transport =  53.945\n",
      "Walk size  =  21 / % of no transport =  38.1325\n",
      "Walk size  =  22 / % of no transport =  51.0975\n",
      "Walk size  =  23 / % of no transport =  35.6875\n",
      "Walk size  =  24 / % of no transport =  47.6275\n",
      "Walk size  =  25 / % of no transport =  33.11\n",
      "Walk size  =  26 / % of no transport =  44.945\n",
      "Walk size  =  27 / % of no transport =  31.05\n",
      "Walk size  =  28 / % of no transport =  43.285000000000004\n",
      "Walk size  =  29 / % of no transport =  29.595\n",
      "Walk size  =  30 / % of no transport =  40.917500000000004\n"
     ]
    }
   ],
   "source": [
    "number_of_walks = 40000\n",
    "for walk_length in range (1, 31):\n",
    "    no_transport = 0 # Number of walks 4 or fewer blocks from home\n",
    "    for i in range(number_of_walks):\n",
    "        (x, y) = random_walk_2(walk_length)\n",
    "        distance = abs(x)+abs(y)\n",
    "        if distance <= 4:\n",
    "            no_transport += 1\n",
    "    no_transport_percentage = float(no_transport)/ number_of_walks\n",
    "    print(\"Walk size  = \", walk_length, \"/ % of no transport = \", 100*no_transport_percentage)"
   ]
  },
  {
   "cell_type": "markdown",
   "metadata": {},
   "source": [
    "Important, as it can be seen, we obtain almost the same values in the percentages when we pass from 10000 samples to 40000"
   ]
  }
 ],
 "metadata": {
  "kernelspec": {
   "display_name": "Python 3",
   "language": "python",
   "name": "python3"
  },
  "language_info": {
   "codemirror_mode": {
    "name": "ipython",
    "version": 3
   },
   "file_extension": ".py",
   "mimetype": "text/x-python",
   "name": "python",
   "nbconvert_exporter": "python",
   "pygments_lexer": "ipython3",
   "version": "3.5.5"
  }
 },
 "nbformat": 4,
 "nbformat_minor": 2
}
