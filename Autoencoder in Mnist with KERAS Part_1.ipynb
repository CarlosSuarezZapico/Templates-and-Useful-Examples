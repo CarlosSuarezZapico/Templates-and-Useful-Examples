{
 "cells": [
  {
   "cell_type": "markdown",
   "metadata": {},
   "source": [
    "# Autoencoder programming "
   ]
  },
  {
   "cell_type": "code",
   "execution_count": 1,
   "metadata": {},
   "outputs": [
    {
     "name": "stderr",
     "output_type": "stream",
     "text": [
      "Using TensorFlow backend.\n"
     ]
    },
    {
     "name": "stdout",
     "output_type": "stream",
     "text": [
      "WARNING:tensorflow:From C:\\Users\\Medusa\\AppData\\Roaming\\Python\\Python36\\site-packages\\tensorflow\\python\\framework\\op_def_library.py:263: colocate_with (from tensorflow.python.framework.ops) is deprecated and will be removed in a future version.\n",
      "Instructions for updating:\n",
      "Colocations handled automatically by placer.\n"
     ]
    }
   ],
   "source": [
    "from keras.layers import Input, Dense\n",
    "from keras.models import Model\n",
    "\n",
    "# this is the size of our encoded representations\n",
    "encoding_dim = 32  # 32 floats -> compression of factor 24.5, assuming the input is 784 floats\n",
    "\n",
    "# this is our input placeholder\n",
    "input_img = Input(shape=(784,))\n",
    "# \"encoded\" is the encoded representation of the input\n",
    "encoded = Dense(encoding_dim, activation='relu')(input_img)\n",
    "# \"decoded\" is the lossy reconstruction of the input\n",
    "decoded = Dense(784, activation='sigmoid')(encoded)\n",
    "\n",
    "# this model maps an input to its reconstruction\n",
    "autoencoder = Model(input_img, decoded)\n",
    "\n",
    "\n",
    "# this model maps an input to its encoded representation\n",
    "encoder = Model(input_img, encoded)"
   ]
  },
  {
   "cell_type": "code",
   "execution_count": 2,
   "metadata": {},
   "outputs": [],
   "source": [
    "# create a placeholder for an encoded (32-dimensional) input\n",
    "encoded_input = Input(shape=(encoding_dim,))\n",
    "# retrieve the last layer of the autoencoder model\n",
    "decoder_layer = autoencoder.layers[-1]\n",
    "# create the decoder model\n",
    "decoder = Model(encoded_input, decoder_layer(encoded_input))"
   ]
  },
  {
   "cell_type": "code",
   "execution_count": 3,
   "metadata": {},
   "outputs": [],
   "source": [
    "autoencoder.compile(optimizer='adadelta', loss='binary_crossentropy')"
   ]
  },
  {
   "cell_type": "code",
   "execution_count": 4,
   "metadata": {},
   "outputs": [],
   "source": [
    "from keras.datasets import mnist\n",
    "import numpy as np\n",
    "(x_train, _), (x_test, _) = mnist.load_data()"
   ]
  },
  {
   "cell_type": "code",
   "execution_count": 6,
   "metadata": {},
   "outputs": [
    {
     "name": "stdout",
     "output_type": "stream",
     "text": [
      "(60000, 784)\n",
      "(10000, 784)\n"
     ]
    }
   ],
   "source": [
    "x_train = x_train.astype('float32') / 255.\n",
    "x_test = x_test.astype('float32') / 255.\n",
    "x_train = x_train.reshape((len(x_train), np.prod(x_train.shape[1:])))\n",
    "x_test = x_test.reshape((len(x_test), np.prod(x_test.shape[1:])))\n",
    "print (x_train.shape)\n",
    "print (x_test.shape)"
   ]
  },
  {
   "cell_type": "code",
   "execution_count": 7,
   "metadata": {},
   "outputs": [
    {
     "name": "stdout",
     "output_type": "stream",
     "text": [
      "WARNING:tensorflow:From C:\\Users\\Medusa\\AppData\\Roaming\\Python\\Python36\\site-packages\\tensorflow\\python\\ops\\math_ops.py:3066: to_int32 (from tensorflow.python.ops.math_ops) is deprecated and will be removed in a future version.\n",
      "Instructions for updating:\n",
      "Use tf.cast instead.\n",
      "Train on 60000 samples, validate on 10000 samples\n",
      "Epoch 1/50\n",
      "60000/60000 [==============================] - 2s 32us/step - loss: 0.3509 - val_loss: 0.2690\n",
      "Epoch 2/50\n",
      "60000/60000 [==============================] - 2s 25us/step - loss: 0.2601 - val_loss: 0.2484\n",
      "Epoch 3/50\n",
      "60000/60000 [==============================] - 1s 23us/step - loss: 0.2383 - val_loss: 0.2265\n",
      "Epoch 4/50\n",
      "60000/60000 [==============================] - 1s 23us/step - loss: 0.2188 - val_loss: 0.2092\n",
      "Epoch 5/50\n",
      "60000/60000 [==============================] - 1s 22us/step - loss: 0.2041 - val_loss: 0.1968\n",
      "Epoch 6/50\n",
      "60000/60000 [==============================] - 1s 22us/step - loss: 0.1936 - val_loss: 0.1878\n",
      "Epoch 7/50\n",
      "60000/60000 [==============================] - 1s 22us/step - loss: 0.1855 - val_loss: 0.1804\n",
      "Epoch 8/50\n",
      "60000/60000 [==============================] - 1s 23us/step - loss: 0.1787 - val_loss: 0.1742\n",
      "Epoch 9/50\n",
      "60000/60000 [==============================] - 2s 26us/step - loss: 0.1727 - val_loss: 0.1685\n",
      "Epoch 10/50\n",
      "60000/60000 [==============================] - 1s 23us/step - loss: 0.1674 - val_loss: 0.1637\n",
      "Epoch 11/50\n",
      "60000/60000 [==============================] - 1s 22us/step - loss: 0.1628 - val_loss: 0.1593\n",
      "Epoch 12/50\n",
      "60000/60000 [==============================] - 1s 23us/step - loss: 0.1587 - val_loss: 0.1554\n",
      "Epoch 13/50\n",
      "60000/60000 [==============================] - 1s 23us/step - loss: 0.1549 - val_loss: 0.1518\n",
      "Epoch 14/50\n",
      "60000/60000 [==============================] - 1s 23us/step - loss: 0.1514 - val_loss: 0.1484\n",
      "Epoch 15/50\n",
      "60000/60000 [==============================] - 1s 23us/step - loss: 0.1483 - val_loss: 0.1453\n",
      "Epoch 16/50\n",
      "60000/60000 [==============================] - 1s 24us/step - loss: 0.1453 - val_loss: 0.1424\n",
      "Epoch 17/50\n",
      "60000/60000 [==============================] - 2s 29us/step - loss: 0.1425 - val_loss: 0.1398\n",
      "Epoch 18/50\n",
      "60000/60000 [==============================] - 2s 27us/step - loss: 0.1399 - val_loss: 0.1371\n",
      "Epoch 19/50\n",
      "60000/60000 [==============================] - 2s 33us/step - loss: 0.1375 - val_loss: 0.1348\n",
      "Epoch 20/50\n",
      "60000/60000 [==============================] - 2s 36us/step - loss: 0.1352 - val_loss: 0.1325\n",
      "Epoch 21/50\n",
      "60000/60000 [==============================] - 2s 31us/step - loss: 0.1330 - val_loss: 0.1305\n",
      "Epoch 22/50\n",
      "60000/60000 [==============================] - 2s 30us/step - loss: 0.1309 - val_loss: 0.1284\n",
      "Epoch 23/50\n",
      "60000/60000 [==============================] - 1s 23us/step - loss: 0.1289 - val_loss: 0.1263\n",
      "Epoch 24/50\n",
      "60000/60000 [==============================] - 1s 22us/step - loss: 0.1270 - val_loss: 0.1245\n",
      "Epoch 25/50\n",
      "60000/60000 [==============================] - 1s 23us/step - loss: 0.1252 - val_loss: 0.1228\n",
      "Epoch 26/50\n",
      "60000/60000 [==============================] - 1s 24us/step - loss: 0.1234 - val_loss: 0.1210\n",
      "Epoch 27/50\n",
      "60000/60000 [==============================] - 2s 27us/step - loss: 0.1218 - val_loss: 0.1194\n",
      "Epoch 28/50\n",
      "60000/60000 [==============================] - 1s 22us/step - loss: 0.1202 - val_loss: 0.1179\n",
      "Epoch 29/50\n",
      "60000/60000 [==============================] - 1s 22us/step - loss: 0.1188 - val_loss: 0.1165\n",
      "Epoch 30/50\n",
      "60000/60000 [==============================] - 1s 25us/step - loss: 0.1174 - val_loss: 0.1151\n",
      "Epoch 31/50\n",
      "60000/60000 [==============================] - 1s 22us/step - loss: 0.1161 - val_loss: 0.1138\n",
      "Epoch 32/50\n",
      "60000/60000 [==============================] - 1s 22us/step - loss: 0.1149 - val_loss: 0.1127\n",
      "Epoch 33/50\n",
      "60000/60000 [==============================] - 1s 23us/step - loss: 0.1137 - val_loss: 0.1116\n",
      "Epoch 34/50\n",
      "60000/60000 [==============================] - 1s 22us/step - loss: 0.1127 - val_loss: 0.1106\n",
      "Epoch 35/50\n",
      "60000/60000 [==============================] - 1s 21us/step - loss: 0.1117 - val_loss: 0.1096\n",
      "Epoch 36/50\n",
      "60000/60000 [==============================] - 1s 22us/step - loss: 0.1108 - val_loss: 0.1088\n",
      "Epoch 37/50\n",
      "60000/60000 [==============================] - 1s 21us/step - loss: 0.1099 - val_loss: 0.1079\n",
      "Epoch 38/50\n",
      "60000/60000 [==============================] - 1s 21us/step - loss: 0.1091 - val_loss: 0.1071\n",
      "Epoch 39/50\n",
      "60000/60000 [==============================] - 1s 23us/step - loss: 0.1084 - val_loss: 0.1064\n",
      "Epoch 40/50\n",
      "60000/60000 [==============================] - 1s 23us/step - loss: 0.1077 - val_loss: 0.1058\n",
      "Epoch 41/50\n",
      "60000/60000 [==============================] - 2s 29us/step - loss: 0.1070 - val_loss: 0.1051\n",
      "Epoch 42/50\n",
      "60000/60000 [==============================] - 2s 25us/step - loss: 0.1064 - val_loss: 0.1045\n",
      "Epoch 43/50\n",
      "60000/60000 [==============================] - 1s 23us/step - loss: 0.1059 - val_loss: 0.1040\n",
      "Epoch 44/50\n",
      "60000/60000 [==============================] - 1s 22us/step - loss: 0.1053 - val_loss: 0.1035\n",
      "Epoch 45/50\n",
      "60000/60000 [==============================] - 1s 21us/step - loss: 0.1048 - val_loss: 0.1030\n",
      "Epoch 46/50\n",
      "60000/60000 [==============================] - 1s 22us/step - loss: 0.1044 - val_loss: 0.1026\n",
      "Epoch 47/50\n",
      "60000/60000 [==============================] - 1s 22us/step - loss: 0.1039 - val_loss: 0.1022\n",
      "Epoch 48/50\n",
      "60000/60000 [==============================] - 1s 22us/step - loss: 0.1035 - val_loss: 0.1018\n",
      "Epoch 49/50\n",
      "60000/60000 [==============================] - 1s 21us/step - loss: 0.1032 - val_loss: 0.1014\n",
      "Epoch 50/50\n",
      "60000/60000 [==============================] - 1s 21us/step - loss: 0.1028 - val_loss: 0.1010\n"
     ]
    },
    {
     "data": {
      "text/plain": [
       "<keras.callbacks.History at 0x1901b170550>"
      ]
     },
     "execution_count": 7,
     "metadata": {},
     "output_type": "execute_result"
    }
   ],
   "source": [
    "autoencoder.fit(x_train, x_train,\n",
    "                epochs=50,\n",
    "                batch_size=256,\n",
    "                shuffle=True,\n",
    "                validation_data=(x_test, x_test))"
   ]
  },
  {
   "cell_type": "code",
   "execution_count": 8,
   "metadata": {},
   "outputs": [],
   "source": [
    "# encode and decode some digits\n",
    "# note that we take them from the *test* set\n",
    "encoded_imgs = encoder.predict(x_test)\n",
    "decoded_imgs = decoder.predict(encoded_imgs)"
   ]
  },
  {
   "cell_type": "code",
   "execution_count": 10,
   "metadata": {},
   "outputs": [
    {
     "data": {
      "image/png": "[encoded data removed]",
      "text/plain": [
       "<Figure size 1440x288 with 20 Axes>"
      ]
     },
     "metadata": {
      "needs_background": "light"
     },
     "output_type": "display_data"
    }
   ],
   "source": [
    "# use Matplotlib (don't ask)\n",
    "import matplotlib.pyplot as plt\n",
    "\n",
    "n = 10  # how many digits we will display\n",
    "plt.figure(figsize=(20, 4))\n",
    "for i in range(n):\n",
    "    # display original\n",
    "    ax = plt.subplot(2, n, i + 1)\n",
    "    plt.imshow(x_test[i].reshape(28, 28))\n",
    "    plt.gray()\n",
    "    ax.get_xaxis().set_visible(False)\n",
    "    ax.get_yaxis().set_visible(False)\n",
    "\n",
    "    # display reconstruction\n",
    "    ax = plt.subplot(2, n, i + 1 + n)\n",
    "    plt.imshow(decoded_imgs[i].reshape(28, 28))\n",
    "    plt.gray()\n",
    "    ax.get_xaxis().set_visible(False)\n",
    "    ax.get_yaxis().set_visible(False)\n",
    "plt.show()"
   ]
  },
  {
   "cell_type": "markdown",
   "metadata": {},
   "source": [
    "# Adding a sparsity constraint on the encoded representations\n",
    "In the previous example, the representations were only constrained by the size of the hidden layer (32). In such a situation, what typically happens is that the hidden layer is learning an approximation of PCA (principal component analysis). But another way to constrain the representations to be compact is to add a sparsity contraint on the activity of the hidden representations, so fewer units would \"fire\" at a given time. In Keras, this can be done by adding an activity_regularizer to our Dense layer:"
   ]
  },
  {
   "cell_type": "code",
   "execution_count": 11,
   "metadata": {},
   "outputs": [],
   "source": [
    "from keras import regularizers\n",
    "\n",
    "encoding_dim = 32\n",
    "\n",
    "input_img = Input(shape=(784,))\n",
    "# add a Dense layer with a L1 activity regularizer\n",
    "encoded = Dense(encoding_dim, activation='relu',\n",
    "                activity_regularizer=regularizers.l1(10e-5))(input_img)\n",
    "decoded = Dense(784, activation='sigmoid')(encoded)\n",
    "\n",
    "autoencoder = Model(input_img, decoded)"
   ]
  },
  {
   "cell_type": "markdown",
   "metadata": {},
   "source": [
    "# Deeper Autoencoder"
   ]
  },
  {
   "cell_type": "code",
   "execution_count": 12,
   "metadata": {},
   "outputs": [],
   "source": [
    "input_img = Input(shape=(784,))\n",
    "encoded = Dense(128, activation='relu')(input_img)\n",
    "encoded = Dense(64, activation='relu')(encoded)\n",
    "encoded = Dense(32, activation='relu')(encoded)\n",
    "\n",
    "decoded = Dense(64, activation='relu')(encoded)\n",
    "decoded = Dense(128, activation='relu')(decoded)\n",
    "decoded = Dense(784, activation='sigmoid')(decoded)\n",
    "autoencoder = Model(input_img, decoded)\n",
    "autoencoder.compile(optimizer='adadelta', loss='binary_crossentropy')\n",
    "\n",
    "autoencoder.fit(x_train, x_train,\n",
    "                epochs=100,\n",
    "                batch_size=256,\n",
    "                shuffle=True,\n",
    "                validation_data=(x_test, x_test))"
   ]
  },
  {
   "cell_type": "markdown",
   "metadata": {},
   "source": [
    "# Convolutional Autoencoder"
   ]
  },
  {
   "cell_type": "code",
   "execution_count": 14,
   "metadata": {},
   "outputs": [],
   "source": [
    "from keras.layers import Input, Dense, Conv2D, MaxPooling2D, UpSampling2D\n",
    "from keras.models import Model\n",
    "from keras import backend as K\n",
    "\n",
    "input_img = Input(shape=(28, 28, 1))  # adapt this if using `channels_first` image data format\n",
    "\n",
    "x = Conv2D(16, (3, 3), activation='relu', padding='same')(input_img)\n",
    "x = MaxPooling2D((2, 2), padding='same')(x)\n",
    "x = Conv2D(8, (3, 3), activation='relu', padding='same')(x)\n",
    "x = MaxPooling2D((2, 2), padding='same')(x)\n",
    "x = Conv2D(8, (3, 3), activation='relu', padding='same')(x)\n",
    "encoded = MaxPooling2D((2, 2), padding='same')(x)\n",
    "\n",
    "# at this point the representation is (4, 4, 8) i.e. 128-dimensional\n",
    "\n",
    "x = Conv2D(8, (3, 3), activation='relu', padding='same')(encoded)\n",
    "x = UpSampling2D((2, 2))(x)\n",
    "x = Conv2D(8, (3, 3), activation='relu', padding='same')(x)\n",
    "x = UpSampling2D((2, 2))(x)\n",
    "x = Conv2D(16, (3, 3), activation='relu')(x)\n",
    "x = UpSampling2D((2, 2))(x)\n",
    "decoded = Conv2D(1, (3, 3), activation='sigmoid', padding='same')(x)\n",
    "\n",
    "autoencoder = Model(input_img, decoded)\n",
    "autoencoder.compile(optimizer='adadelta', loss='binary_crossentropy')"
   ]
  },
  {
   "cell_type": "code",
   "execution_count": 15,
   "metadata": {},
   "outputs": [],
   "source": [
    "x_train = x_train.astype('float32') / 255.\n",
    "x_test = x_test.astype('float32') / 255.\n",
    "x_train = np.reshape(x_train, (len(x_train), 28, 28, 1))  # adapt this if using `channels_first` image data format\n",
    "x_test = np.reshape(x_test, (len(x_test), 28, 28, 1))  # adapt this if using `channels_first` image data format"
   ]
  },
  {
   "cell_type": "code",
   "execution_count": null,
   "metadata": {},
   "outputs": [],
   "source": [
    "autoencoder.fit(x_train, x_train,\n",
    "                epochs=50,\n",
    "                batch_size=256,\n",
    "                shuffle=True,\n",
    "                validation_data=(x_test, x_test))"
   ]
  },
  {
   "cell_type": "code",
   "execution_count": null,
   "metadata": {},
   "outputs": [],
   "source": []
  }
 ],
 "metadata": {
  "kernelspec": {
   "display_name": "Python 3",
   "language": "python",
   "name": "python3"
  },
  "language_info": {
   "codemirror_mode": {
    "name": "ipython",
    "version": 3
   },
   "file_extension": ".py",
   "mimetype": "text/x-python",
   "name": "python",
   "nbconvert_exporter": "python",
   "pygments_lexer": "ipython3",
   "version": "3.6.8"
  }
 },
 "nbformat": 4,
 "nbformat_minor": 2
}
